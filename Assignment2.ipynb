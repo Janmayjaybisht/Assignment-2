{
  "nbformat": 4,
  "nbformat_minor": 0,
  "metadata": {
    "colab": {
      "provenance": []
    },
    "kernelspec": {
      "name": "python3",
      "display_name": "Python 3"
    },
    "language_info": {
      "name": "python"
    }
  },
  "cells": [
    {
      "cell_type": "markdown",
      "source": [
        "# Data Types and Structures Questions"
      ],
      "metadata": {
        "id": "jCOIDKLT2QOV"
      }
    },
    {
      "cell_type": "markdown",
      "source": [
        "1. What are data structures, and why are they important?\n",
        "    - In Python, data structures like lists, dictionaries, sets, and tuples help organize data. They make coding easier and faster by storing, sorting, and accessing information efficiently. Use them to solve problems and manage data effectively.\n",
        "\n",
        "2. Explain the difference between mutable and immutable data types with examples?\n",
        "    - Mutable data types can change after creation, like lists ([1, 2] -> [1, 3]). Immutable data types cannot change, like tuples ((1, 2) stays the same). Example: lists are mutable, strings and tuples are immutable.\n",
        "\n",
        "3. What are the main differences between lists and tuples in Python?\n",
        "    - Lists are mutable and use `[ ]`, like `[1, 2, 3]`. Tuples are immutable and use `( )`, like `(1, 2, 3)`. Lists are slower but flexible; tuples are faster and fixed.\n",
        "\n",
        "4. Describe how dictionaries store data?\n",
        "    - Dictionaries in Python store data as key-value pairs inside `{ }`.Each key is unique, and it links to a value. Example: `{\"name\": \"Alice\", \"age\": 25}`.Keys help quickly find and access their values.\n",
        "\n",
        "5. Why might you use a set instead of a list in Python?\n",
        "    - Use a set instead of a list when you need unique items and don't care about order.Sets automatically remove duplicates and are faster for checking membership.Example: `{1, 2, 3}` ensures no repeated numbers.\n",
        "\n",
        "6. What is a string in Python, and how is it different from a list?\n",
        "    - A string in Python is a sequence of characters, like \"hello\". Unlike lists, strings are immutable (cannot change), and elements are always characters. Lists, like [1, 2, 3], are mutable and can store different data types.\n",
        "\n",
        "7. How do tuples ensure data integrity in Python?\n",
        "    - Tuples ensure data integrity by being immutable once created, their values cannot change. This prevents accidental modifications, making them reliable for storing constant data. Example:`(1, 2, 3)`stays fixed, ensuring data remains safe and unchanged.\n",
        "\n",
        "8. What is a hash table, and how does it relate to dictionaries in Python?\n",
        "    - A hash table is a data structure that stores data using a key-value pair. In Python, dictionaries use hash tables to efficiently store and retrieve values based on unique keys, providing fast lookups, insertions, and deletions.\n",
        "\n",
        "9. Can lists contain different data types in Python?\n",
        "    - Yes, in Python, lists can contain different data types. A list can have numbers, strings, and other objects all in one list. This flexibility makes lists very useful for storing varied kinds of data together.\n",
        "\n",
        "10. Explain why strings are immutable in Python?\n",
        "    - Strings are immutable in Python because once created, their content cannot be changed. Any change creates a new string. This helps ensure that strings remain consistent and prevents errors that could happen if strings were accidentally altered during use.\n",
        "    \n",
        "11. What advantages do dictionaries offer over lists for certain tasks?\n",
        "    - Dictionaries are faster than lists for finding data using keys.They store data as key-value pairs, like {\"name\": \"Alice\"}.Use dictionaries when you need quick lookups or to organize data with meaningful labels.\n",
        "\n",
        "12. Describe a scenario where using a tuple would be preferable over a list?\n",
        "    - Use a tuple when storing constant data that shouldn’t change,like coordinates (10, 20) or days of the week. Tuples are faster and protect data from accidental changes, making them ideal for fixed, unchangeable information.\n",
        "\n",
        "13. How do sets handle duplicate values in Python?\n",
        "    - Sets in Python automatically remove duplicate values.When you add items to a set, only unique elements are kept. For example,{1, 2, 2, 3} becomes {1, 2, 3}.This ensures all elements are distinct.\n",
        "\n",
        "14. How does the “in” keyword work differently for lists and dictionaries?\n",
        "    - In lists, the `in` keyword checks if a value exists, like 3 in [1, 2, 3]. In dictionaries, it checks for keys, not values, like 'name' in {'name': 'Alice'}.\n",
        "\n",
        "15. Can you modify the elements of a tuple? Explain why or why not?\n",
        "    - No, you cannot modify tuple elements because tuples are immutable. Once created, their values stay fixed. This design ensures data integrity, making tuples ideal for storing constant information that should not be accidentally changed.\n",
        "\n",
        "16. What is a nested dictionary,and give an example of its use case?\n",
        "    - A nested dictionary is a dictionary inside another dictionary.It organizes complex data. Example: {\"student1\": {\"name\": \"Alice\", \"age\": 20}, \"student2\": {\"name\": \"Bob\", \"age\": 22}} can store details for multiple students neatly.\n",
        "\n",
        "17. Describe the time complexity of accessing elements in a dictionary?\n",
        "    - Accessing elements in a dictionary is very fast, with O(1) average time complexity. This means it takes the same time, no matter the size, because Python uses hashing to quickly locate keys and their values.\n",
        "\n",
        "18. In what situations are lists preferred over dictionaries?\n",
        "    - Lists are better when you only need ordered data, like [1, 2, 3], and don’t need labels. Use them for simple tasks like looping through numbers or storing items without key-value pairs, as in dictionaries.\n",
        "\n",
        "19. Why are dictionaries considered unordered, and how does that affect data retrieval?\n",
        "    - Dictionaries are considered unordered because they store data based on hashing, not position. This means items aren’t stored in a fixed order. However, data retrieval is fast and doesn’t depend on order—keys directly locate their values.\n",
        "\n",
        "20. Explain the difference between a list and a dictionary in terms of data retrieval?\n",
        "    - In a list, data is retrieved by index (e.g., `my_list[0]`).In a dictionary, data is retrieved by key (e.g., `my_dict[\"name\"]`).Lists use positions, while dictionaries use unique keys for faster access."
      ],
      "metadata": {
        "id": "dYDV2bDI2f1K"
      }
    },
    {
      "cell_type": "markdown",
      "source": [
        "# Practical Questions"
      ],
      "metadata": {
        "id": "OrXqQpOk-d8u"
      }
    },
    {
      "cell_type": "markdown",
      "source": [
        "1. Write a code to create a string with your name and print it?"
      ],
      "metadata": {
        "id": "1ikEGsQuauBs"
      }
    },
    {
      "cell_type": "code",
      "source": [
        "name = \"janmayjay singh bisht\"\n",
        "print(name)\n",
        "type(name)"
      ],
      "metadata": {
        "colab": {
          "base_uri": "https://localhost:8080/"
        },
        "id": "SAGou9VK-jfZ",
        "outputId": "efbe8044-881e-4651-92b4-e32bdc2e5609"
      },
      "execution_count": null,
      "outputs": [
        {
          "output_type": "stream",
          "name": "stdout",
          "text": [
            "janmayjay singh bisht\n"
          ]
        },
        {
          "output_type": "execute_result",
          "data": {
            "text/plain": [
              "str"
            ]
          },
          "metadata": {},
          "execution_count": 4
        }
      ]
    },
    {
      "cell_type": "markdown",
      "source": [
        "2. Write a code to find the length of the string \"Hello World\"?"
      ],
      "metadata": {
        "id": "d6p5ZOtRccon"
      }
    },
    {
      "cell_type": "code",
      "source": [
        "a = \"Hello World\"\n",
        "lenth = len(a)\n",
        "print(lenth)\n"
      ],
      "metadata": {
        "colab": {
          "base_uri": "https://localhost:8080/"
        },
        "id": "b2v0WCFcet1U",
        "outputId": "64732305-84f9-407b-9d12-87fb5e290531"
      },
      "execution_count": 21,
      "outputs": [
        {
          "output_type": "stream",
          "name": "stdout",
          "text": [
            "11\n"
          ]
        }
      ]
    },
    {
      "cell_type": "markdown",
      "source": [
        "3. Write a code to slice the first 3 characters from the string \"Python Programming\"?"
      ],
      "metadata": {
        "id": "jkTI0AINfGVl"
      }
    },
    {
      "cell_type": "code",
      "source": [
        "text =  \"Python Programming\"\n",
        "text[0:3]"
      ],
      "metadata": {
        "colab": {
          "base_uri": "https://localhost:8080/",
          "height": 35
        },
        "id": "rSmhqf9Ue91A",
        "outputId": "3a81908f-4ca8-4b8a-c10c-789c8eccb309"
      },
      "execution_count": 23,
      "outputs": [
        {
          "output_type": "execute_result",
          "data": {
            "text/plain": [
              "'Pyt'"
            ],
            "application/vnd.google.colaboratory.intrinsic+json": {
              "type": "string"
            }
          },
          "metadata": {},
          "execution_count": 23
        }
      ]
    },
    {
      "cell_type": "markdown",
      "source": [
        "4. Write a code to convert the string \"hello\" to uppercase?\n"
      ],
      "metadata": {
        "id": "hzL5zqp_fgvi"
      }
    },
    {
      "cell_type": "code",
      "source": [
        "a=\"hello\"\n",
        "a.upper()"
      ],
      "metadata": {
        "colab": {
          "base_uri": "https://localhost:8080/",
          "height": 35
        },
        "id": "eJhPPfMIfaiz",
        "outputId": "83b4d2b9-64c5-439f-c727-8eaefc52f071"
      },
      "execution_count": 25,
      "outputs": [
        {
          "output_type": "execute_result",
          "data": {
            "text/plain": [
              "'HELLO'"
            ],
            "application/vnd.google.colaboratory.intrinsic+json": {
              "type": "string"
            }
          },
          "metadata": {},
          "execution_count": 25
        }
      ]
    },
    {
      "cell_type": "markdown",
      "source": [
        "5. Write a code to replace the word \"apple\" with \"orange\" in the string \"I like apple\"?"
      ],
      "metadata": {
        "id": "DbhYdkPQf0Qh"
      }
    },
    {
      "cell_type": "code",
      "source": [
        "s=\"I like apple\"\n",
        "s.replace(\"apple\",\"orange\")"
      ],
      "metadata": {
        "colab": {
          "base_uri": "https://localhost:8080/",
          "height": 35
        },
        "id": "KirS0CFpfvSP",
        "outputId": "2e9626b2-1f9b-4aab-ed9b-e821d0ac50a0"
      },
      "execution_count": 26,
      "outputs": [
        {
          "output_type": "execute_result",
          "data": {
            "text/plain": [
              "'I like orange'"
            ],
            "application/vnd.google.colaboratory.intrinsic+json": {
              "type": "string"
            }
          },
          "metadata": {},
          "execution_count": 26
        }
      ]
    },
    {
      "cell_type": "markdown",
      "source": [
        "6. Write a code to create a list with numbers 1 to 5 and print it?"
      ],
      "metadata": {
        "id": "R2vSdInDgTA4"
      }
    },
    {
      "cell_type": "code",
      "source": [
        "list=[1,2,3,4,5]\n",
        "print(list)"
      ],
      "metadata": {
        "colab": {
          "base_uri": "https://localhost:8080/"
        },
        "id": "EmSZTLmCgQu1",
        "outputId": "1fd4eaf9-a31d-4f81-b6f3-e5f23bcf5d57"
      },
      "execution_count": 27,
      "outputs": [
        {
          "output_type": "stream",
          "name": "stdout",
          "text": [
            "[1, 2, 3, 4, 5]\n"
          ]
        }
      ]
    },
    {
      "cell_type": "markdown",
      "source": [
        "7. Write a code to append the number 10 to the list [1, 2, 3, 4]?"
      ],
      "metadata": {
        "id": "kZeaVwMsgn_L"
      }
    },
    {
      "cell_type": "code",
      "source": [
        "list2= [1, 2, 3, 4]\n",
        "list2.append(10)\n",
        "print(list2)"
      ],
      "metadata": {
        "colab": {
          "base_uri": "https://localhost:8080/"
        },
        "id": "tR5_KrMRgiCV",
        "outputId": "821786f2-b8b4-47f7-b051-5476b77fe156"
      },
      "execution_count": 29,
      "outputs": [
        {
          "output_type": "stream",
          "name": "stdout",
          "text": [
            "[1, 2, 3, 4, 10]\n"
          ]
        }
      ]
    },
    {
      "cell_type": "markdown",
      "source": [
        "8.  Write a code to remove the number 3 from the list [1, 2, 3, 4, 5]?"
      ],
      "metadata": {
        "id": "BSE09XWChEDg"
      }
    },
    {
      "cell_type": "code",
      "source": [
        "list3= [1, 2, 3, 4, 5]\n",
        "list3.pop(2)\n",
        "print(list3)"
      ],
      "metadata": {
        "colab": {
          "base_uri": "https://localhost:8080/"
        },
        "id": "WG9UW5mIg7QT",
        "outputId": "a19fe352-5863-4e18-e771-3252788a85db"
      },
      "execution_count": 31,
      "outputs": [
        {
          "output_type": "stream",
          "name": "stdout",
          "text": [
            "[1, 2, 4, 5]\n"
          ]
        }
      ]
    },
    {
      "cell_type": "markdown",
      "source": [
        "9. Write a code to access the second element in the list ['a', 'b', 'c', 'd']?"
      ],
      "metadata": {
        "id": "_0xbJGVnhbcz"
      }
    },
    {
      "cell_type": "code",
      "source": [
        "list4=['a', 'b', 'c', 'd']\n",
        "list4[1]"
      ],
      "metadata": {
        "colab": {
          "base_uri": "https://localhost:8080/",
          "height": 35
        },
        "id": "oECQ5iyUhWnJ",
        "outputId": "93780e5d-9acf-417c-a697-d0f152f54c00"
      },
      "execution_count": 32,
      "outputs": [
        {
          "output_type": "execute_result",
          "data": {
            "text/plain": [
              "'b'"
            ],
            "application/vnd.google.colaboratory.intrinsic+json": {
              "type": "string"
            }
          },
          "metadata": {},
          "execution_count": 32
        }
      ]
    },
    {
      "cell_type": "markdown",
      "source": [
        "10. Write a code to reverse the list [10, 20, 30, 40, 50]?"
      ],
      "metadata": {
        "id": "mrC8cvzOh44B"
      }
    },
    {
      "cell_type": "code",
      "source": [
        "list5=[10, 20, 30, 40, 50]\n",
        "list5[::-1]"
      ],
      "metadata": {
        "colab": {
          "base_uri": "https://localhost:8080/"
        },
        "id": "1p8pQ1lkh3sO",
        "outputId": "d0e1564e-b3f7-4515-a25f-3b6a3af1096c"
      },
      "execution_count": 39,
      "outputs": [
        {
          "output_type": "execute_result",
          "data": {
            "text/plain": [
              "[50, 40, 30, 20, 10]"
            ]
          },
          "metadata": {},
          "execution_count": 39
        }
      ]
    },
    {
      "cell_type": "markdown",
      "source": [
        "11. Write a code to create a tuple with the elements 10, 20, 30 and print it?"
      ],
      "metadata": {
        "id": "pN-9L1N_jQL2"
      }
    },
    {
      "cell_type": "code",
      "source": [
        "box=(10,20,30)\n",
        "print(box)\n",
        "type(box)"
      ],
      "metadata": {
        "colab": {
          "base_uri": "https://localhost:8080/"
        },
        "id": "CULAOugciN7y",
        "outputId": "20757330-1ccd-48d5-aa07-16896edca699"
      },
      "execution_count": 43,
      "outputs": [
        {
          "output_type": "stream",
          "name": "stdout",
          "text": [
            "(10, 20, 30)\n"
          ]
        },
        {
          "output_type": "execute_result",
          "data": {
            "text/plain": [
              "tuple"
            ]
          },
          "metadata": {},
          "execution_count": 43
        }
      ]
    },
    {
      "cell_type": "markdown",
      "source": [
        "12. Write a code to access the first element of the tuple ('apple', 'banana', 'cherry')?"
      ],
      "metadata": {
        "id": "fJ_skVPbjyYc"
      }
    },
    {
      "cell_type": "code",
      "source": [
        "box1=('apple', 'banana', 'cherry')\n",
        "box1[0]"
      ],
      "metadata": {
        "colab": {
          "base_uri": "https://localhost:8080/",
          "height": 35
        },
        "id": "m1B5CLyzjbIv",
        "outputId": "1d433835-96e3-4094-e2a2-80d481ed6af1"
      },
      "execution_count": 44,
      "outputs": [
        {
          "output_type": "execute_result",
          "data": {
            "text/plain": [
              "'apple'"
            ],
            "application/vnd.google.colaboratory.intrinsic+json": {
              "type": "string"
            }
          },
          "metadata": {},
          "execution_count": 44
        }
      ]
    },
    {
      "cell_type": "markdown",
      "source": [
        "13.  Write a code to count how many times the number 2 appears in the tuple (1, 2, 3, 2, 4, 2)?"
      ],
      "metadata": {
        "id": "iLS4k7iRkFbd"
      }
    },
    {
      "cell_type": "code",
      "source": [
        "box2=(1, 2, 3, 2, 4, 2)\n",
        "box2.count(2)"
      ],
      "metadata": {
        "colab": {
          "base_uri": "https://localhost:8080/"
        },
        "id": "iAfBrqSzkES5",
        "outputId": "228d642c-7a11-45af-c2c8-cbd882ccad26"
      },
      "execution_count": 45,
      "outputs": [
        {
          "output_type": "execute_result",
          "data": {
            "text/plain": [
              "3"
            ]
          },
          "metadata": {},
          "execution_count": 45
        }
      ]
    },
    {
      "cell_type": "markdown",
      "source": [
        "14.  Write a code to find the index of the element \"cat\" in the tuple ('dog', 'cat', 'rabbit')?\n",
        "\n"
      ],
      "metadata": {
        "id": "WQPogvb0kYHF"
      }
    },
    {
      "cell_type": "code",
      "source": [
        "box3=('dog', 'cat', 'rabbit')\n",
        "box3.index(\"cat\")"
      ],
      "metadata": {
        "colab": {
          "base_uri": "https://localhost:8080/"
        },
        "id": "V4kubLw2kWkW",
        "outputId": "332edeb7-d935-45c0-d46f-c6273e80f14b"
      },
      "execution_count": 47,
      "outputs": [
        {
          "output_type": "execute_result",
          "data": {
            "text/plain": [
              "1"
            ]
          },
          "metadata": {},
          "execution_count": 47
        }
      ]
    },
    {
      "cell_type": "markdown",
      "source": [
        "15. Write a code to check if the element \"banana\" is in the tuple ('apple', 'orange', 'banana')?"
      ],
      "metadata": {
        "id": "1Nk50LgDk5Io"
      }
    },
    {
      "cell_type": "code",
      "source": [
        "box5=('apple', 'orange', 'banana')\n",
        "print(\"banana\" in box5)"
      ],
      "metadata": {
        "colab": {
          "base_uri": "https://localhost:8080/"
        },
        "id": "IemV_7spkr4-",
        "outputId": "025bb1a4-4e37-4eaa-c0f9-dbd74230880d"
      },
      "execution_count": 48,
      "outputs": [
        {
          "output_type": "stream",
          "name": "stdout",
          "text": [
            "True\n"
          ]
        }
      ]
    },
    {
      "cell_type": "markdown",
      "source": [
        "16. Write a code to create a set with the elements 1, 2, 3, 4, 5 and print it."
      ],
      "metadata": {
        "id": "6yc4GYOIlyJo"
      }
    },
    {
      "cell_type": "code",
      "source": [
        "set1={1, 2, 3, 4, 5}\n",
        "print(set1)\n"
      ],
      "metadata": {
        "colab": {
          "base_uri": "https://localhost:8080/"
        },
        "id": "YkN_2fjuluYd",
        "outputId": "80ffea33-7528-43a3-978f-2c30a226c011"
      },
      "execution_count": 50,
      "outputs": [
        {
          "output_type": "stream",
          "name": "stdout",
          "text": [
            "{1, 2, 3, 4, 5}\n"
          ]
        }
      ]
    },
    {
      "cell_type": "markdown",
      "source": [
        "17.  Write a code to add the element 6 to the set {1, 2, 3, 4}."
      ],
      "metadata": {
        "id": "_2cVKPZMmNCu"
      }
    },
    {
      "cell_type": "code",
      "source": [
        "set2= {1, 2, 3, 4}\n",
        "set2.add(6)\n",
        "print(set2)"
      ],
      "metadata": {
        "colab": {
          "base_uri": "https://localhost:8080/"
        },
        "id": "8Q8NpG7gmDsI",
        "outputId": "2d0e5b73-dbd7-49be-d9bd-465dab3046f8"
      },
      "execution_count": 52,
      "outputs": [
        {
          "output_type": "stream",
          "name": "stdout",
          "text": [
            "{1, 2, 3, 4, 6}\n"
          ]
        }
      ]
    },
    {
      "cell_type": "markdown",
      "source": [
        "18. Write a code to create a tuple with the elements 10, 20, 30 and print it."
      ],
      "metadata": {
        "id": "-lXQ6DPvmfJ8"
      }
    },
    {
      "cell_type": "code",
      "source": [
        "tup1=(10,20,30)\n",
        "print(tup1)"
      ],
      "metadata": {
        "colab": {
          "base_uri": "https://localhost:8080/"
        },
        "id": "d9sMxghUmaCD",
        "outputId": "efc9bc17-d20a-463c-cdcc-7f5f4fa66a3d"
      },
      "execution_count": 53,
      "outputs": [
        {
          "output_type": "stream",
          "name": "stdout",
          "text": [
            "(10, 20, 30)\n"
          ]
        }
      ]
    },
    {
      "cell_type": "markdown",
      "source": [
        "19.  Write a code to access the first element of the tuple ('apple', 'banana', 'cherry')."
      ],
      "metadata": {
        "id": "PKIwRjVzm8WQ"
      }
    },
    {
      "cell_type": "code",
      "source": [
        "tup2=('apple', 'banana', 'cherry')\n",
        "tup2[0]"
      ],
      "metadata": {
        "colab": {
          "base_uri": "https://localhost:8080/",
          "height": 35
        },
        "id": "CYNMakFpm7HZ",
        "outputId": "5dacebda-37e0-47d3-bb34-5b2d943b8890"
      },
      "execution_count": 54,
      "outputs": [
        {
          "output_type": "execute_result",
          "data": {
            "text/plain": [
              "'apple'"
            ],
            "application/vnd.google.colaboratory.intrinsic+json": {
              "type": "string"
            }
          },
          "metadata": {},
          "execution_count": 54
        }
      ]
    },
    {
      "cell_type": "markdown",
      "source": [
        "20. Write a code to count how many times the number 2 appears in the tuple (1, 2, 3, 2, 4, 2)."
      ],
      "metadata": {
        "id": "w_9ur4XynJV5"
      }
    },
    {
      "cell_type": "code",
      "source": [
        "box2=(1, 2, 3, 2, 4, 2)\n",
        "box2.count(2)"
      ],
      "metadata": {
        "colab": {
          "base_uri": "https://localhost:8080/"
        },
        "id": "Nn3E6T4RnISB",
        "outputId": "728fb2db-f49e-43f3-aad1-802e7055f118"
      },
      "execution_count": 55,
      "outputs": [
        {
          "output_type": "execute_result",
          "data": {
            "text/plain": [
              "3"
            ]
          },
          "metadata": {},
          "execution_count": 55
        }
      ]
    },
    {
      "cell_type": "markdown",
      "source": [
        "21.  Write a code to find the index of the element \"cat\" in the tuple ('dog', 'cat', 'rabbit')."
      ],
      "metadata": {
        "id": "S97I7gnlnaKY"
      }
    },
    {
      "cell_type": "code",
      "source": [
        "box3=('dog', 'cat', 'rabbit')\n",
        "box3.index(\"cat\")"
      ],
      "metadata": {
        "colab": {
          "base_uri": "https://localhost:8080/"
        },
        "id": "3KJGIeI2nYZV",
        "outputId": "3a1a9659-6a60-47a6-c235-fa48b3e30fa3"
      },
      "execution_count": 56,
      "outputs": [
        {
          "output_type": "execute_result",
          "data": {
            "text/plain": [
              "1"
            ]
          },
          "metadata": {},
          "execution_count": 56
        }
      ]
    },
    {
      "cell_type": "markdown",
      "source": [
        "22. Write a code to check if the element \"banana\" is in the tuple ('apple', 'orange', 'banana')."
      ],
      "metadata": {
        "id": "I03s5MTPnkZr"
      }
    },
    {
      "cell_type": "code",
      "source": [
        "box5=('apple', 'orange', 'banana')\n",
        "print(\"banana\" in box5)"
      ],
      "metadata": {
        "colab": {
          "base_uri": "https://localhost:8080/"
        },
        "id": "i3RJyVpZnjfE",
        "outputId": "9940e9ed-6e55-4633-f4d5-e75dbfe2d513"
      },
      "execution_count": 57,
      "outputs": [
        {
          "output_type": "stream",
          "name": "stdout",
          "text": [
            "True\n"
          ]
        }
      ]
    },
    {
      "cell_type": "markdown",
      "source": [
        "23. Write a code to create a set with the elements 1, 2, 3, 4, 5 and print it."
      ],
      "metadata": {
        "id": "cilJ6_y-nuZJ"
      }
    },
    {
      "cell_type": "code",
      "source": [
        "set1={1, 2, 3, 4, 5}\n",
        "print(set1)"
      ],
      "metadata": {
        "colab": {
          "base_uri": "https://localhost:8080/"
        },
        "id": "rdkS-L8FntY1",
        "outputId": "19968be7-58d9-4f96-8e29-ad7589595ac3"
      },
      "execution_count": 58,
      "outputs": [
        {
          "output_type": "stream",
          "name": "stdout",
          "text": [
            "{1, 2, 3, 4, 5}\n"
          ]
        }
      ]
    },
    {
      "cell_type": "markdown",
      "source": [
        "24. Write a code to add the element 6 to the set {1, 2, 3, 4}."
      ],
      "metadata": {
        "id": "RGg-weQ3n7sZ"
      }
    },
    {
      "cell_type": "code",
      "source": [
        "set2= {1, 2, 3, 4}\n",
        "set2.add(6)\n",
        "print(set2)"
      ],
      "metadata": {
        "colab": {
          "base_uri": "https://localhost:8080/"
        },
        "id": "vGiAqp4Jn41u",
        "outputId": "e1df7521-3742-4276-ece4-dada1f4216c1"
      },
      "execution_count": 59,
      "outputs": [
        {
          "output_type": "stream",
          "name": "stdout",
          "text": [
            "{1, 2, 3, 4, 6}\n"
          ]
        }
      ]
    }
  ]
}